{
 "cells": [
  {
   "cell_type": "code",
   "execution_count": 1,
   "id": "86babf6e-0612-41d5-92c8-b327f80bcbe9",
   "metadata": {},
   "outputs": [],
   "source": [
    "import pandas as pd\n",
    "import numpy as np\n",
    "from sklearn.model_selection import train_test_split\n",
    "from sklearn.preprocessing import LabelEncoder\n",
    "from sklearn.feature_extraction.text import TfidfVectorizer\n",
    "from sklearn.linear_model import LogisticRegression\n",
    "from sklearn.ensemble import RandomForestClassifier, GradientBoostingClassifier\n",
    "from sklearn.svm import LinearSVC\n",
    "from sklearn.metrics import classification_report, confusion_matrix\n",
    "from sklearn.pipeline import Pipeline\n",
    "from sklearn.calibration import CalibratedClassifierCV\n",
    "import re\n",
    "from collections import Counter\n",
    "import matplotlib.pyplot as plt\n",
    "import seaborn as sns\n",
    "import joblib\n",
    "\n",
    "# Set random seed for reproducibility\n",
    "np.random.seed(42)"
   ]
  },
  {
   "cell_type": "code",
   "execution_count": 2,
   "id": "2176c50f-936c-47b3-9a81-ad34d99e7270",
   "metadata": {},
   "outputs": [
    {
     "name": "stdout",
     "output_type": "stream",
     "text": [
      "Dataset columns: Index(['description', 'disease'], dtype='object')\n",
      "Total samples: 374\n",
      "\n",
      "Class distribution:\n",
      "disease\n",
      "UTI        134\n",
      "Malaria    125\n",
      "Typhoid    115\n",
      "Name: count, dtype: int64\n"
     ]
    },
    {
     "data": {
      "image/png": "[encoded data removed]",
      "text/plain": [
       "<Figure size 1000x600 with 1 Axes>"
      ]
     },
     "metadata": {},
     "output_type": "display_data"
    }
   ],
   "source": [
    "# Load your dataset\n",
    "df = pd.read_csv('diseases.csv')  # Assuming columns are 'descriptions' and 'disease'\n",
    "\n",
    "# Verify column names\n",
    "print(\"Dataset columns:\", df.columns)\n",
    "print(\"Total samples:\", len(df))\n",
    "print(\"\\nClass distribution:\")\n",
    "print(df['disease'].value_counts())\n",
    "\n",
    "# Visualize class distribution\n",
    "plt.figure(figsize=(10, 6))\n",
    "sns.countplot(data=df, y='disease', order=df['disease'].value_counts().index)\n",
    "plt.title('Disease Distribution in Dataset')\n",
    "plt.show()"
   ]
  },
  {
   "cell_type": "code",
   "execution_count": 4,
   "id": "813b25ca-e9e1-4d43-9145-bafa3c6a4621",
   "metadata": {},
   "outputs": [
    {
     "name": "stdout",
     "output_type": "stream",
     "text": [
      "\n",
      "Preprocessing examples:\n",
      "Original: Joto linaniua kabisa... -> Processed: joto linaniua kabisa...\n",
      "Original: Mkojo unanuka vibaya... -> Processed: mikojo unanuka vibaya...\n",
      "Original: Kutapika na kichefuchefu... -> Processed: kutapika na kich efuchefu...\n",
      "Original: Homa ni kama inapanda juu sana... -> Processed: homa ni kama inapanida ju sana...\n",
      "Original: Mkojo wa mawingu... -> Processed: mikojo wa mawinigu...\n"
     ]
    }
   ],
   "source": [
    "def advanced_swahili_preprocessor(text):\n",
    "    \"\"\"Advanced preprocessing with spelling pattern normalization\"\"\"\n",
    "    text = text.lower().strip()\n",
    "    \n",
    "    # Remove special characters but keep Swahili specific characters\n",
    "    text = re.sub(r'[^\\w\\s]', '', text)\n",
    "    \n",
    "    # Common Swahili character transpositions and errors\n",
    "    transpositions = [\n",
    "        (r'(.)\\1+', r'\\1\\1'),  # Reduce character repetitions (e.g., 'naummmwa' -> 'naummwa')\n",
    "        (r'(\\b\\w{2,})h\\b', r'\\1'),  # Remove trailing 'h' (common error)\n",
    "        (r'\\b([^aeiou])\\1', r'\\1'),  # Reduce consonant doubling\n",
    "        (r'([aeiou])\\1', r'\\1'),  # Reduce vowel doubling\n",
    "        (r'\\b([kmtw])([aeiou])\\1', r'\\1\\2'),  # Fix common syllable repetitions\n",
    "        (r'([nm])([^aeiou])', lambda m: m.group(1) + 'i' + m.group(2)),  # Add missing 'i'\n",
    "    ]\n",
    "    \n",
    "    for pattern, replacement in transpositions:\n",
    "        text = re.sub(pattern, replacement, text)\n",
    "    \n",
    "    # Common Swahili word stems preservation\n",
    "    stems = {\n",
    "        r'\\bnaum[^\\w]*': 'naumwa ',\n",
    "        r'\\bkizungu[^\\w]*': 'kizunguzungu ',\n",
    "        r'\\b(ki|vi)([^aeiou\\s]{2})': r'\\1\\2 ',  # Preserve noun class prefixes\n",
    "        r'\\b(na|ni|u|a|tu|m|wa)([^aeiou\\s]{2})': r'\\1\\2 ',  # Preserve subject prefixes\n",
    "    }\n",
    "    \n",
    "    for pattern, replacement in stems.items():\n",
    "        text = re.sub(pattern, replacement, text)\n",
    "    \n",
    "    return text.strip()\n",
    "\n",
    "# Apply advanced preprocessing\n",
    "df['processed_text'] = df['description'].apply(advanced_swahili_preprocessor)\n",
    "\n",
    "# Show preprocessing examples\n",
    "print(\"\\nPreprocessing examples:\")\n",
    "sample = df.sample(5, random_state=42)\n",
    "for orig, proc in zip(sample['description'], sample['processed_text']):\n",
    "    print(f\"Original: {orig[:50]}... -> Processed: {proc[:50]}...\")"
   ]
  },
  {
   "cell_type": "code",
   "execution_count": null,
   "id": "52804ec1-172b-493e-a934-e25b6eeb3a71",
   "metadata": {},
   "outputs": [],
   "source": []
  }
 ],
 "metadata": {
  "kernelspec": {
   "display_name": "Python 3 (ipykernel)",
   "language": "python",
   "name": "python3"
  },
  "language_info": {
   "codemirror_mode": {
    "name": "ipython",
    "version": 3
   },
   "file_extension": ".py",
   "mimetype": "text/x-python",
   "name": "python",
   "nbconvert_exporter": "python",
   "pygments_lexer": "ipython3",
   "version": "3.12.3"
  }
 },
 "nbformat": 4,
 "nbformat_minor": 5
}
